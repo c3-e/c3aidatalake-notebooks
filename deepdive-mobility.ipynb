{
 "cells": [
  {
   "cell_type": "markdown",
   "metadata": {},
   "source": [
    "# C3.ai COVID-19 Data Lake Deep Dive - Mobility and Case Counts\n",
    "\n",
    "Last updated: June 23, 2020.\n",
    "\n",
    "This Python Jupyter notebook shows some possible analyses using mobility and case count data in the C3.ai COVID-19 Data Lake. See the [API documentation](https://c3.ai/covid-19-api-documentation/) for more details. Note that the [R Deep Dive notebook](https://c3.ai/covid-19-api-documentation/#section/Quickstart-Guide) contains more detailed analysis, while this Python Jupyter notebook shows only preliminary data access and visualization.\n",
    "\n",
    "Please contribute your questions, answers and insights on [Stack Overflow](https://www.stackoverflow.com). Tag `c3ai-datalake` so that others can view and help build on your contributions. For support, please send email to: [covid@c3.ai](mailto:covid@c3.ai)."
   ]
  },
  {
   "cell_type": "code",
   "execution_count": null,
   "metadata": {},
   "outputs": [],
   "source": [
    "import pandas as pd\n",
    "from matplotlib import pyplot as plt\n",
    "import datetime"
   ]
  },
  {
   "cell_type": "markdown",
   "metadata": {},
   "source": [
    "Ensure that you have a recent version of pandas (>= 1.0.0)."
   ]
  },
  {
   "cell_type": "code",
   "execution_count": null,
   "metadata": {},
   "outputs": [],
   "source": [
    "print(\"pandas version\", pd.__version__)\n",
    "assert pd.__version__[0] >= \"1\", \"To use this notebook, upgrade to the newest version of pandas. See https://pandas.pydata.org/pandas-docs/stable/getting_started/install.html for details.\"\n"
   ]
  },
  {
   "cell_type": "markdown",
   "metadata": {},
   "source": [
    "<a id=\"helpers\"></a>\n",
    "## Helper methods for accessing the API\n",
    "\n",
    "The helper methods in `c3aidatalake.py` convert a JSON response from the C3.ai APIs to a Pandas DataFrame. You may wish to view the code in `c3aidatalake.py` before using the quickstart examples."
   ]
  },
  {
   "cell_type": "code",
   "execution_count": null,
   "metadata": {},
   "outputs": [],
   "source": [
    "import c3aidatalake"
   ]
  },
  {
   "cell_type": "markdown",
   "metadata": {},
   "source": [
    "## County comparison\n",
    "\n",
    "We will compare data from the following datasets across Bay Area counties:\n",
    "- Confirmed case counts from Johns Hopkins University: COVID-19 Data Repository\n",
    "- Walking, driving, and transit mobility indices from Apple: COVID-19 Mobility Trends\n",
    "- Parks, residential, retail, grocery, transit stations, and workplaces mobility from Google: COVID-19 Community Mobility Reports\n",
    "- Device exposure indices from PlaceIQ Exposure Indices"
   ]
  },
  {
   "cell_type": "code",
   "execution_count": null,
   "metadata": {},
   "outputs": [],
   "source": [
    "today = pd.Timestamp.now() - datetime.timedelta(days = 7)\n",
    "today = today.strftime(\"%Y-%m-%d\")\n",
    "\n",
    "locations = [\n",
    "    \"SanFrancisco_California_UnitedStates\",\n",
    "    \"SanMateo_California_UnitedStates\",\n",
    "    \"SantaClara_California_UnitedStates\",\n",
    "    \"Alameda_California_UnitedStates\"\n",
    "]\n",
    "\n",
    "metrics = [\n",
    "    \"JHU_ConfirmedCases\",\n",
    "    \"JHU_ConfirmedDeaths\",\n",
    "    \"Apple_TransitMobility\",\n",
    "    \"Apple_WalkingMobility\", \n",
    "    \"Apple_DrivingMobility\",\n",
    "    \"Google_ParksMobility\",\n",
    "    \"Google_ResidentialMobility\",\n",
    "    \"Google_GroceryMobility\",\n",
    "    \"Google_TransitStationsMobility\",\n",
    "    \"Google_RetailMobility\",\n",
    "    \"Google_WorkplacesMobility\",\n",
    "    \"PlaceIQ_DeviceExposure_Adjusted\"\n",
    "]\n",
    "\n",
    "complete_timeseries = c3aidatalake.evalmetrics(\n",
    "    \"outbreaklocation\",\n",
    "    {\n",
    "        \"spec\" : {\n",
    "            \"ids\" : locations,\n",
    "            \"expressions\" : metrics,\n",
    "            \"start\" : \"2020-02-15\",\n",
    "            \"end\" : today,\n",
    "            \"interval\" : \"DAY\",\n",
    "        }\n",
    "    },\n",
    "    get_all = True\n",
    ")\n",
    "\n",
    "complete_timeseries"
   ]
  },
  {
   "cell_type": "code",
   "execution_count": null,
   "metadata": {
    "scrolled": false
   },
   "outputs": [],
   "source": [
    "for metric in metrics:\n",
    "    plt.figure(figsize = (8, 6))\n",
    "\n",
    "    if \"Mobility\" in metric:\n",
    "        plt.plot(\n",
    "            complete_timeseries[\"dates\"],\n",
    "            [100 for d in complete_timeseries[\"dates\"]],\n",
    "            label = \"Baseline\",\n",
    "            linestyle = \"dashed\",\n",
    "            color = \"black\"\n",
    "        )\n",
    "\n",
    "    for location in locations:\n",
    "        data_col = location + \".\" + metric + \".data\"\n",
    "        missing_col = location + \".\" + metric + \".missing\"\n",
    "\n",
    "        missing = list(complete_timeseries[missing_col])\n",
    "        data = [list(complete_timeseries[data_col])[i] for i in range(len(complete_timeseries[data_col])) if missing[i] < 100]\n",
    "        dates = [list(complete_timeseries[\"dates\"])[i] for i in range(len(complete_timeseries[\"dates\"])) if missing[i] < 100]\n",
    "\n",
    "        plt.plot(\n",
    "            dates,\n",
    "            data,\n",
    "            label = location\n",
    "        )\n",
    "\n",
    "    plt.legend()\n",
    "    plt.xticks(rotation = 45, ha = \"right\")\n",
    "    if \"Mobility\" in metric:\n",
    "        plt.ylabel(\"Mobility compared to baseline (%)\")\n",
    "    else:\n",
    "        plt.ylabel(\"Count\")\n",
    "    plt.title(\"Comparison of \" + metric + \" over time\")\n",
    "    plt.show()"
   ]
  },
  {
   "cell_type": "markdown",
   "metadata": {},
   "source": [
    "In general, Alemeda tends to have slightly higher mobility and device exposure. Google retail mobility is substantially lower in San Francisco than other counties.\n",
    "\n",
    "Let's compare case counts and mobility directly. You can edit the locations and metrics below to view other comparisons."
   ]
  },
  {
   "cell_type": "code",
   "execution_count": null,
   "metadata": {},
   "outputs": [],
   "source": [
    "from matplotlib.lines import Line2D\n",
    "\n",
    "metric1 = \"JHU_ConfirmedCases\"\n",
    "metric2 = \"Google_RetailMobility\"\n",
    "\n",
    "location1 = \"SanMateo_California_UnitedStates\"\n",
    "location2 = \"SantaClara_California_UnitedStates\"\n",
    "\n",
    "all_locations = [location1, location2]\n",
    "linestyles = [\"solid\", \"dashed\"]\n",
    "\n",
    "fig, ax1 = plt.subplots(figsize = (12, 8))\n",
    "color = 'tab:red'\n",
    "ax1.set_ylabel(metric1, color = color)\n",
    "ax1.tick_params(axis='y', labelcolor = color)\n",
    "\n",
    "for i, location in enumerate(all_locations):\n",
    "    data_col = location + \".\" + metric1 + \".data\"\n",
    "    missing_col = location + \".\" + metric1 + \".missing\"\n",
    "\n",
    "    missing = list(complete_timeseries[missing_col])\n",
    "    data = [list(complete_timeseries[data_col])[i] for i in range(len(complete_timeseries[data_col])) if missing[i] < 100]\n",
    "    dates = [list(complete_timeseries[\"dates\"])[i] for i in range(len(complete_timeseries[\"dates\"])) if missing[i] < 100]\n",
    "\n",
    "    ax1.plot(\n",
    "        dates,\n",
    "        data,\n",
    "        ls = linestyles[i],\n",
    "        color = color,\n",
    "        label = location\n",
    "    )\n",
    "\n",
    "\n",
    "ax2 = ax1.twinx()\n",
    "color = 'tab:blue'\n",
    "ax2.set_ylabel(metric2, color=color)\n",
    "ax2.tick_params(axis='y', labelcolor=color)\n",
    "\n",
    "for i, location in enumerate(all_locations):\n",
    "    data_col = location + \".\" + metric2 + \".data\"\n",
    "    missing_col = location + \".\" + metric2 + \".missing\"\n",
    "\n",
    "    missing = list(complete_timeseries[missing_col])\n",
    "    data = [list(complete_timeseries[data_col])[i] for i in range(len(complete_timeseries[data_col])) if missing[i] < 100]\n",
    "    dates = [list(complete_timeseries[\"dates\"])[i] for i in range(len(complete_timeseries[\"dates\"])) if missing[i] < 100]\n",
    "\n",
    "    ax2.plot(\n",
    "        dates,\n",
    "        data,\n",
    "        ls = linestyles[i],\n",
    "        color = color,\n",
    "        label = location\n",
    "    )\n",
    "\n",
    "plt.legend([\n",
    "    Line2D([0], [0], color = \"black\", linestyle = linestyles[0], lw=1),\n",
    "    Line2D([0], [0], color = \"black\", linestyle = linestyles[1], lw=1)\n",
    "], all_locations)\n",
    "\n",
    "ax1.tick_params(axis='x', labelrotation = 80)\n",
    "\n",
    "fig.tight_layout()\n",
    "plt.title(\"Comparison of \" + metric1 + \" and \" + metric2 + \" in \" + location1 + \" and \" + location2)\n",
    "plt.show()"
   ]
  },
  {
   "cell_type": "markdown",
   "metadata": {},
   "source": [
    "These visualizations show the options to manipulate and use mobility and case count data from the C3.ai COVID-19 Data Lake. For full analysis of these data, see the [R Deep Dive notebook](https://c3.ai/covid-19-api-documentation/#section/Quickstart-Guide). In bringing together data sets from disparate sources, the C3.ai COVID-19 Data Lake permits in-depth and real-time data exploration. \n",
    "\n",
    "If any publications or research results are derived in full or in part from the C3.ai COVID-19 Data Lake, please make sure to credit the C3.ai COVID-19 Data Lake by referencing the case study at https://c3.ai/customers/covid-19-data-lake/."
   ]
  },
  {
   "cell_type": "code",
   "execution_count": null,
   "metadata": {},
   "outputs": [],
   "source": []
  }
 ],
 "metadata": {
  "kernelspec": {
   "display_name": "Python 3",
   "language": "python",
   "name": "python3"
  },
  "language_info": {
   "codemirror_mode": {
    "name": "ipython",
    "version": 3
   },
   "file_extension": ".py",
   "mimetype": "text/x-python",
   "name": "python",
   "nbconvert_exporter": "python",
   "pygments_lexer": "ipython3",
   "version": "3.7.3"
  }
 },
 "nbformat": 4,
 "nbformat_minor": 4
}
